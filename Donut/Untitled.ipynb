{
 "cells": [
  {
   "cell_type": "code",
   "execution_count": null,
   "metadata": {},
   "outputs": [],
   "source": [
    "import torch\n",
    "import torch.nn as nn\n",
    "from torchvision.models import resnet50  # Using ResNet50 for CNN blocks example\n",
    "from timm.models.swin_transformer import SwinTransformer  # Make sure you have this module\n",
    "\n",
    "class HybridCNNSwin(nn.Module):\n",
    "    def __init__(self):\n",
    "        super(HybridCNNSwin, self).__init__()\n",
    "        \n",
    "        # Using ResNet first three layers as an example for CNN stages\n",
    "        base_model = resnet50(pretrained=True)\n",
    "        self.stage1 = nn.Sequential(*list(base_model.children())[:3])  # First few layers of ResNet\n",
    "        self.stage2 = nn.Sequential(*list(base_model.children())[3:5])  # Layer1 of ResNet\n",
    "        self.stage3 = nn.Sequential(*list(base_model.children())[5:6])  # Layer2 of ResNet\n",
    "        \n",
    "        # Swin Transformer blocks\n",
    "        self.stage4 = SwinTransformer(embed_dim=128, depths=[2], num_heads=[4], window_size=5)\n",
    "        self.stage5 = SwinTransformer(embed_dim=256, depths=[2], num_heads=[8], window_size=5)\n",
    "        self.stage6 = SwinTransformer(embed_dim=512, depths=[2], num_heads=[16], window_size=10)\n",
    "        \n",
    "    def forward(self, x):\n",
    "        # Apply each stage\n",
    "        x = self.stage1(x)\n",
    "        x = self.stage2(x)\n",
    "        x = self.stage3(x)\n",
    "        x = self.stage4(x)\n",
    "        x = self.stage5(x)\n",
    "        x = self.stage6(x)\n",
    "        return x\n",
    "\n",
    "# Example use\n",
    "model = HybridCNNSwin()\n",
    "input_tensor = torch.rand(1, 3, 224, 224)  # Example input tensor\n",
    "output = model(input_tensor)\n",
    "print(output.shape)"
   ]
  }
 ],
 "metadata": {
  "language_info": {
   "name": "python"
  }
 },
 "nbformat": 4,
 "nbformat_minor": 2
}
