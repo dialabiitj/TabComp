{
 "cells": [
  {
   "cell_type": "code",
   "execution_count": 3,
   "metadata": {},
   "outputs": [
    {
     "name": "stdout",
     "output_type": "stream",
     "text": [
      "Processing complete. Check the output file for results.\n"
     ]
    }
   ],
   "source": [
    "import json\n",
    "\n",
    "# File paths\n",
    "input_file_path = \"/iitjhome/pratiwi1/UReader/ureader_json/test/metadata.jsonl\"\n",
    "output_file_path = \"/iitjhome/pratiwi1/UReader/output.jsonl\"\n",
    "\n",
    "# Read the JSONL file and process each line\n",
    "with open(input_file_path, 'r') as infile, open(output_file_path, 'w') as outfile:\n",
    "    for line in infile:\n",
    "        # Parse the JSON line\n",
    "        data = json.loads(line.strip())\n",
    "        file_name = data[\"file_name\"]\n",
    "        ground_truth = json.loads(data[\"ground_truth\"])\n",
    "        \n",
    "        # Iterate over each question-answer pair\n",
    "        for qa_pair in ground_truth[\"gt_parses\"]:\n",
    "            new_entry = {\n",
    "                \"file_name\": file_name,\n",
    "                \"ground_truth\": json.dumps({\n",
    "                    \"gt_parses\": [qa_pair]\n",
    "                })\n",
    "            }\n",
    "            # Write each new entry to the output file\n",
    "            outfile.write(json.dumps(new_entry) + '\\n')\n",
    "\n",
    "print(\"Processing complete. Check the output file for results.\")\n"
   ]
  },
  {
   "cell_type": "code",
   "execution_count": 10,
   "metadata": {},
   "outputs": [],
   "source": [
    "import json\n",
    "\n",
    "# Path to your JSONL file\n",
    "file_path = '/iitjhome/pratiwi1/UReader/evaluate_results/test_metrics.jsonl'\n",
    "\n",
    "# Initialize a list to store all the records\n",
    "with open(file_path, 'r', encoding='utf-8') as file:\n",
    "    for line in file:\n",
    "        # Parse each line as JSON\n",
    "        record = json.loads(line)\n",
    "        \n",
    "        # Access the 'gt' and 'pred' fields\n",
    "        gt = record.get('gt', 'N/A')   # Get 'gt' value, if not available, return 'N/A'\n",
    "        pred = record.get('pred', 'N/A') # Get 'pred' value, if not available, return 'N/A'\n",
    "        \n",
    "        # Print or process the values as needed\n",
    "        if(gt==pred):\n",
    "            print(gt)\n",
    "        "
   ]
  }
 ],
 "metadata": {
  "kernelspec": {
   "display_name": "Python 3",
   "language": "python",
   "name": "python3"
  },
  "language_info": {
   "codemirror_mode": {
    "name": "ipython",
    "version": 3
   },
   "file_extension": ".py",
   "mimetype": "text/x-python",
   "name": "python",
   "nbconvert_exporter": "python",
   "pygments_lexer": "ipython3",
   "version": "3.10.12"
  }
 },
 "nbformat": 4,
 "nbformat_minor": 2
}
